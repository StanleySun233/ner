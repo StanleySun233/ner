{
 "cells": [
  {
   "cell_type": "code",
   "id": "initial_id",
   "metadata": {
    "collapsed": true,
    "ExecuteTime": {
     "end_time": "2024-11-02T17:40:39.676295Z",
     "start_time": "2024-11-02T17:40:35.342847Z"
    }
   },
   "source": [
    "from datasets import load_dataset\n",
    "from transformers import AutoTokenizer,AutoModelForTokenClassification\n",
    "from transformers import DataCollatorForTokenClassification\n",
    "from transformers import Trainer,TrainingArguments,TrainerCallback\n",
    "import numpy as np\n",
    "import evaluate\n",
    "from torch.utils.tensorboard import SummaryWriter"
   ],
   "outputs": [],
   "execution_count": 1
  },
  {
   "metadata": {
    "jupyter": {
     "is_executing": true
    },
    "ExecuteTime": {
     "start_time": "2024-11-02T17:40:39.684298Z"
    }
   },
   "cell_type": "code",
   "source": [
    "dataset = load_dataset(\"PassbyGrocer/weibo-ner\",trust_remote_code=True)\n",
    "tokenizer = AutoTokenizer.from_pretrained(\"google-bert/bert-base-chinese\")"
   ],
   "id": "b9458a3be8cc138d",
   "outputs": [],
   "execution_count": null
  },
  {
   "metadata": {
    "ExecuteTime": {
     "end_time": "2024-11-02T17:36:26.714351Z",
     "start_time": "2024-11-02T17:36:17.515054Z"
    }
   },
   "cell_type": "code",
   "source": [
    "print(dataset[\"train\"].features[\"ner_tags\"])\n",
    "model = AutoModelForTokenClassification.from_pretrained(\"google-bert/bert-base-chinese\",\n",
    "                                                        num_labels=len(dataset['train'].features['ner_tags'].feature.names))\n",
    "id2label = {i:dataset['train'].features['ner_tags'].feature.names[i] for i in range(len(dataset['train'].features['ner_tags'].feature.names))}\n",
    "model.config.id2label = id2label\n",
    "model.config.label2id = {v: k for k, v in id2label.items()}"
   ],
   "id": "13afffbefbb5cb1b",
   "outputs": [
    {
     "name": "stdout",
     "output_type": "stream",
     "text": [
      "Sequence(feature=ClassLabel(names=['O', 'B-PER', 'I-PER', 'B-ORG', 'I-ORG', 'B-LOC', 'I-LOC', 'B-MISC', 'I-MISC'], id=None), length=-1, id=None)\n"
     ]
    },
    {
     "data": {
      "text/plain": [
       "model.safetensors:   0%|          | 0.00/412M [00:00<?, ?B/s]"
      ],
      "application/vnd.jupyter.widget-view+json": {
       "version_major": 2,
       "version_minor": 0,
       "model_id": "c0ed1619aaf8429dac0b8d8a9dfe68d7"
      }
     },
     "metadata": {},
     "output_type": "display_data"
    },
    {
     "name": "stderr",
     "output_type": "stream",
     "text": [
      "Some weights of BertForTokenClassification were not initialized from the model checkpoint at google-bert/bert-base-chinese and are newly initialized: ['classifier.bias', 'classifier.weight']\n",
      "You should probably TRAIN this model on a down-stream task to be able to use it for predictions and inference.\n"
     ]
    }
   ],
   "execution_count": 3
  },
  {
   "metadata": {
    "ExecuteTime": {
     "end_time": "2024-11-02T17:36:29.820474Z",
     "start_time": "2024-11-02T17:36:26.762363Z"
    }
   },
   "cell_type": "code",
   "source": [
    "label_list = dataset[\"train\"].features[\"ner_tags\"].feature.names\n",
    "def tokenize_and_align_labels(examples):\n",
    "    tokenized_inputs = tokenizer(examples[\"tokens\"], truncation=True, padding=True, is_split_into_words=True)\n",
    "\n",
    "    labels = []\n",
    "    for i, label in enumerate(examples[\"ner_tags\"]):\n",
    "        word_ids = tokenized_inputs.word_ids(batch_index=i)\n",
    "        label_ids = [-100 if word_id is None else label[word_id] for word_id in word_ids]\n",
    "        labels.append(label_ids)\n",
    "\n",
    "    tokenized_inputs[\"labels\"] = labels\n",
    "    return tokenized_inputs\n",
    "\n",
    "tokenized_datasets = dataset.map(tokenize_and_align_labels, batched=True)\n",
    "data_collator = DataCollatorForTokenClassification(tokenizer)"
   ],
   "id": "747b74ad803eea2f",
   "outputs": [
    {
     "data": {
      "text/plain": [
       "Map:   0%|          | 0/14041 [00:00<?, ? examples/s]"
      ],
      "application/vnd.jupyter.widget-view+json": {
       "version_major": 2,
       "version_minor": 0,
       "model_id": "b2c8899ed8f64afeaf01070d13cccf05"
      }
     },
     "metadata": {},
     "output_type": "display_data"
    },
    {
     "data": {
      "text/plain": [
       "Map:   0%|          | 0/3250 [00:00<?, ? examples/s]"
      ],
      "application/vnd.jupyter.widget-view+json": {
       "version_major": 2,
       "version_minor": 0,
       "model_id": "c86d3937c26243da91755e7c048a74c4"
      }
     },
     "metadata": {},
     "output_type": "display_data"
    },
    {
     "data": {
      "text/plain": [
       "Map:   0%|          | 0/3453 [00:00<?, ? examples/s]"
      ],
      "application/vnd.jupyter.widget-view+json": {
       "version_major": 2,
       "version_minor": 0,
       "model_id": "21b08e0e8ca94ac59eb3d9ce0f07efe8"
      }
     },
     "metadata": {},
     "output_type": "display_data"
    }
   ],
   "execution_count": 4
  },
  {
   "metadata": {
    "ExecuteTime": {
     "end_time": "2024-11-02T17:37:13.383109Z",
     "start_time": "2024-11-02T17:36:29.838504Z"
    }
   },
   "cell_type": "code",
   "source": [
    "metric = evaluate.load(\"seqeval\")\n",
    "writer = SummaryWriter(log_dir=\"./logs\")\n",
    "label_list = dataset[\"train\"].features[\"ner_tags\"].feature.names  # 获取标签名称列表\n",
    "\n",
    "def compute_metrics(p):\n",
    "    # 获取 logits，并将它们转换为预测的标签索引\n",
    "    predictions = np.argmax(p.predictions, axis=2)\n",
    "    references = p.label_ids\n",
    "\n",
    "    # 转换为字符串标签，并过滤掉 -100\n",
    "    true_predictions = [\n",
    "        [label_list[pred] for (pred, label) in zip(prediction, reference) if label != -100]\n",
    "        for prediction, reference in zip(predictions, references)\n",
    "    ]\n",
    "    true_labels = [\n",
    "        [label_list[label] for (pred, label) in zip(prediction, reference) if label != -100]\n",
    "        for prediction, reference in zip(predictions, references)\n",
    "    ]\n",
    "\n",
    "    # 计算 seqeval 指标\n",
    "    results = metric.compute(predictions=true_predictions, references=true_labels)\n",
    "    return {\n",
    "        \"precision\": results[\"overall_precision\"],\n",
    "        \"recall\": results[\"overall_recall\"],\n",
    "        \"f1\": results[\"overall_f1\"],\n",
    "        \"accuracy\": results[\"overall_accuracy\"],\n",
    "    }"
   ],
   "id": "e4f8686cb471915b",
   "outputs": [],
   "execution_count": 5
  },
  {
   "metadata": {
    "ExecuteTime": {
     "end_time": "2024-11-02T17:37:13.414110Z",
     "start_time": "2024-11-02T17:37:13.401094Z"
    }
   },
   "cell_type": "code",
   "source": [
    "class TensorBoardCallback(TrainerCallback):\n",
    "    def on_log(self, args, state, control, logs=None, **kwargs):\n",
    "        if logs is None:\n",
    "            return\n",
    "        # 将每次日志的损失值记录到 TensorBoard\n",
    "        for k, v in logs.items():\n",
    "            if \"loss\" in k:\n",
    "                writer.add_scalar(f\"Loss/{k}\", v, global_step=state.global_step)"
   ],
   "id": "9c3656518c4da941",
   "outputs": [],
   "execution_count": 6
  },
  {
   "metadata": {
    "ExecuteTime": {
     "end_time": "2024-11-02T17:37:13.556820Z",
     "start_time": "2024-11-02T17:37:13.433135Z"
    }
   },
   "cell_type": "code",
   "source": [
    "training_args = TrainingArguments(\n",
    "    output_dir=\"./results\",\n",
    "    evaluation_strategy=\"epoch\",\n",
    "    save_strategy=\"epoch\",\n",
    "    logging_dir=\"./logs\",                # 指定日志目录\n",
    "    logging_strategy=\"steps\",            # 设置日志记录策略（这里按步记录）\n",
    "    logging_steps=10,                    # 每 10 步记录一次日志\n",
    "    learning_rate=2e-5,\n",
    "    per_device_train_batch_size=16,\n",
    "    per_device_eval_batch_size=16,\n",
    "    num_train_epochs=10,\n",
    "    weight_decay=0.01,\n",
    "    fp16=True,\n",
    "    push_to_hub=True,\n",
    "    hub_model_id=\"PassbyGrocer/bert-ner-weibo\"\n",
    ")"
   ],
   "id": "4337d098c833d9eb",
   "outputs": [
    {
     "name": "stderr",
     "output_type": "stream",
     "text": [
      "E:\\ProgramData\\anaconda3\\envs\\hf\\lib\\site-packages\\transformers\\training_args.py:1559: FutureWarning: `evaluation_strategy` is deprecated and will be removed in version 4.46 of 🤗 Transformers. Use `eval_strategy` instead\n",
      "  warnings.warn(\n"
     ]
    }
   ],
   "execution_count": 7
  },
  {
   "metadata": {
    "ExecuteTime": {
     "end_time": "2024-11-02T17:38:51.608595Z",
     "start_time": "2024-11-02T17:37:13.575831Z"
    }
   },
   "cell_type": "code",
   "source": [
    "trainer = Trainer(\n",
    "    model=model,\n",
    "    args=training_args,\n",
    "    train_dataset=tokenized_datasets[\"train\"],\n",
    "    eval_dataset=tokenized_datasets[\"validation\"],\n",
    "    tokenizer=tokenizer,\n",
    "    data_collator=data_collator,\n",
    "    compute_metrics=compute_metrics,\n",
    "    callbacks=[TensorBoardCallback()]\n",
    ")\n",
    "\n",
    "trainer.train()"
   ],
   "id": "49711aaeb2caf05d",
   "outputs": [
    {
     "name": "stderr",
     "output_type": "stream",
     "text": [
      "C:\\Users\\sjsun\\AppData\\Local\\Temp\\ipykernel_25272\\3304118550.py:1: FutureWarning: `tokenizer` is deprecated and will be removed in version 5.0.0 for `Trainer.__init__`. Use `processing_class` instead.\n",
      "  trainer = Trainer(\n"
     ]
    },
    {
     "data": {
      "text/plain": [
       "<IPython.core.display.HTML object>"
      ],
      "text/html": [
       "\n",
       "    <div>\n",
       "      \n",
       "      <progress value='367' max='8780' style='width:300px; height:20px; vertical-align: middle;'></progress>\n",
       "      [ 367/8780 01:34 < 36:23, 3.85 it/s, Epoch 0.42/10]\n",
       "    </div>\n",
       "    <table border=\"1\" class=\"dataframe\">\n",
       "  <thead>\n",
       " <tr style=\"text-align: left;\">\n",
       "      <th>Epoch</th>\n",
       "      <th>Training Loss</th>\n",
       "      <th>Validation Loss</th>\n",
       "    </tr>\n",
       "  </thead>\n",
       "  <tbody>\n",
       "  </tbody>\n",
       "</table><p>"
      ]
     },
     "metadata": {},
     "output_type": "display_data"
    },
    {
     "name": "stderr",
     "output_type": "stream",
     "text": [
      "\n",
      "KeyboardInterrupt\n",
      "\n"
     ]
    }
   ],
   "execution_count": 8
  },
  {
   "metadata": {},
   "cell_type": "code",
   "source": [
    "test_results = trainer.predict(tokenized_datasets[\"test\"])\n",
    "\n",
    "# 输出测试结果\n",
    "print(\"测试集上的结果:\", test_results.metrics)"
   ],
   "id": "93024ca2e24aed1d",
   "outputs": [],
   "execution_count": null
  },
  {
   "metadata": {},
   "cell_type": "code",
   "source": "trainer.push_to_hub()",
   "id": "76022e6fae003353",
   "outputs": [],
   "execution_count": null
  }
 ],
 "metadata": {
  "kernelspec": {
   "display_name": "Python 3",
   "language": "python",
   "name": "python3"
  },
  "language_info": {
   "codemirror_mode": {
    "name": "ipython",
    "version": 2
   },
   "file_extension": ".py",
   "mimetype": "text/x-python",
   "name": "python",
   "nbconvert_exporter": "python",
   "pygments_lexer": "ipython2",
   "version": "2.7.6"
  }
 },
 "nbformat": 4,
 "nbformat_minor": 5
}
