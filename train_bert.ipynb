{
 "cells": [
  {
   "cell_type": "code",
   "id": "initial_id",
   "metadata": {
    "collapsed": true
   },
   "source": [
    "from datasets import load_dataset\n",
    "from transformers import AutoTokenizer,AutoModelForTokenClassification\n",
    "from transformers import DataCollatorForTokenClassification\n",
    "from transformers import Trainer,TrainingArguments,TrainerCallback\n",
    "import numpy as np\n",
    "import evaluate\n",
    "from torch.utils.tensorboard import SummaryWriter"
   ],
   "outputs": [],
   "execution_count": null
  },
  {
   "metadata": {},
   "cell_type": "code",
   "source": [
    "dataset = load_dataset(\"PassbyGrocer/msra-ner\",trust_remote_code=True)\n",
    "tokenizer = AutoTokenizer.from_pretrained(\"bert-base-uncased\")"
   ],
   "id": "b9458a3be8cc138d",
   "outputs": [],
   "execution_count": null
  },
  {
   "metadata": {},
   "cell_type": "code",
   "source": [
    "print(dataset[\"train\"].features[\"ner_tags\"])\n",
    "model = AutoModelForTokenClassification.from_pretrained(\"bert-base-uncased\",\n",
    "                                                        num_labels=len(dataset['train'].features['ner_tags'].feature.names))\n",
    "id2label = {i:dataset['train'].features['ner_tags'].feature.names[i] for i in range(len(dataset['train'].features['ner_tags'].feature.names))}\n",
    "model.config.id2label = id2label\n",
    "model.config.label2id = {v: k for k, v in id2label.items()}"
   ],
   "id": "13afffbefbb5cb1b",
   "outputs": [],
   "execution_count": null
  },
  {
   "metadata": {},
   "cell_type": "code",
   "source": [
    "label_list = dataset[\"train\"].features[\"ner_tags\"].feature.names\n",
    "def tokenize_and_align_labels(examples):\n",
    "    tokenized_inputs = tokenizer(examples[\"tokens\"], truncation=True, padding=True, is_split_into_words=True)\n",
    "\n",
    "    labels = []\n",
    "    for i, label in enumerate(examples[\"ner_tags\"]):\n",
    "        word_ids = tokenized_inputs.word_ids(batch_index=i)\n",
    "        label_ids = [-100 if word_id is None else label[word_id] for word_id in word_ids]\n",
    "        labels.append(label_ids)\n",
    "\n",
    "    tokenized_inputs[\"labels\"] = labels\n",
    "    return tokenized_inputs\n",
    "\n",
    "tokenized_datasets = dataset.map(tokenize_and_align_labels, batched=True)\n",
    "data_collator = DataCollatorForTokenClassification(tokenizer)"
   ],
   "id": "747b74ad803eea2f",
   "outputs": [],
   "execution_count": null
  },
  {
   "metadata": {},
   "cell_type": "code",
   "source": [
    "metric = evaluate.load(\"seqeval\")\n",
    "writer = SummaryWriter(log_dir=\"./logs\")\n",
    "label_list = dataset[\"train\"].features[\"ner_tags\"].feature.names  # 获取标签名称列表\n",
    "\n",
    "def compute_metrics(p):\n",
    "    # 获取 logits，并将它们转换为预测的标签索引\n",
    "    predictions = np.argmax(p.predictions, axis=2)\n",
    "    references = p.label_ids\n",
    "\n",
    "    # 转换为字符串标签，并过滤掉 -100\n",
    "    true_predictions = [\n",
    "        [label_list[pred] for (pred, label) in zip(prediction, reference) if label != -100]\n",
    "        for prediction, reference in zip(predictions, references)\n",
    "    ]\n",
    "    true_labels = [\n",
    "        [label_list[label] for (pred, label) in zip(prediction, reference) if label != -100]\n",
    "        for prediction, reference in zip(predictions, references)\n",
    "    ]\n",
    "\n",
    "    # 计算 seqeval 指标\n",
    "    results = metric.compute(predictions=true_predictions, references=true_labels)\n",
    "    return {\n",
    "        \"precision\": results[\"overall_precision\"],\n",
    "        \"recall\": results[\"overall_recall\"],\n",
    "        \"f1\": results[\"overall_f1\"],\n",
    "        \"accuracy\": results[\"overall_accuracy\"],\n",
    "    }"
   ],
   "id": "e4f8686cb471915b",
   "outputs": [],
   "execution_count": null
  },
  {
   "metadata": {},
   "cell_type": "code",
   "source": [
    "class TensorBoardCallback(TrainerCallback):\n",
    "    def on_log(self, args, state, control, logs=None, **kwargs):\n",
    "        if logs is None:\n",
    "            return\n",
    "        # 将每次日志的损失值记录到 TensorBoard\n",
    "        for k, v in logs.items():\n",
    "            if \"loss\" in k:\n",
    "                writer.add_scalar(f\"Loss/{k}\", v, global_step=state.global_step)"
   ],
   "id": "9c3656518c4da941",
   "outputs": [],
   "execution_count": null
  },
  {
   "metadata": {},
   "cell_type": "code",
   "source": [
    "training_args = TrainingArguments(\n",
    "    output_dir=\"./results\",\n",
    "    evaluation_strategy=\"epoch\",\n",
    "    save_strategy=\"epoch\",\n",
    "    logging_dir=\"./logs\",                # 指定日志目录\n",
    "    logging_strategy=\"steps\",            # 设置日志记录策略（这里按步记录）\n",
    "    logging_steps=10,                    # 每 10 步记录一次日志\n",
    "    learning_rate=2e-5,\n",
    "    per_device_train_batch_size=16,\n",
    "    per_device_eval_batch_size=16,\n",
    "    num_train_epochs=1,\n",
    "    weight_decay=0.01,\n",
    "    fp16=True,\n",
    "    push_to_hub=True,\n",
    "    hub_model_id=\"PassbyGrocer/bert-ner-msra\"\n",
    ")"
   ],
   "id": "4337d098c833d9eb",
   "outputs": [],
   "execution_count": null
  },
  {
   "metadata": {
    "jupyter": {
     "is_executing": true
    }
   },
   "cell_type": "code",
   "source": [
    "trainer = Trainer(\n",
    "    model=model,\n",
    "    args=training_args,\n",
    "    train_dataset=tokenized_datasets[\"train\"],\n",
    "    eval_dataset=tokenized_datasets[\"validation\"],\n",
    "    tokenizer=tokenizer,\n",
    "    data_collator=data_collator,\n",
    "    compute_metrics=compute_metrics,\n",
    "    callbacks=[TensorBoardCallback()]\n",
    ")\n",
    "\n",
    "trainer.train()"
   ],
   "id": "49711aaeb2caf05d",
   "outputs": [],
   "execution_count": null
  },
  {
   "metadata": {},
   "cell_type": "code",
   "source": [
    "test_results = trainer.predict(tokenized_datasets[\"test\"])\n",
    "\n",
    "# 输出测试结果\n",
    "print(\"测试集上的结果:\", test_results.metrics)"
   ],
   "id": "93024ca2e24aed1d",
   "outputs": [],
   "execution_count": null
  },
  {
   "metadata": {},
   "cell_type": "code",
   "source": "trainer.push_to_hub()",
   "id": "76022e6fae003353",
   "outputs": [],
   "execution_count": null
  },
  {
   "metadata": {},
   "cell_type": "code",
   "source": "!pip install transformers datasets evaluate seqeval tensorboard \"numpy<2\" transformers[torch] \"accelerate>=0.26.0\" pytorch-crf",
   "id": "c29e07c08f2c7eee",
   "outputs": [],
   "execution_count": null
  }
 ],
 "metadata": {
  "kernelspec": {
   "display_name": "Python 3",
   "language": "python",
   "name": "python3"
  },
  "language_info": {
   "codemirror_mode": {
    "name": "ipython",
    "version": 2
   },
   "file_extension": ".py",
   "mimetype": "text/x-python",
   "name": "python",
   "nbconvert_exporter": "python",
   "pygments_lexer": "ipython2",
   "version": "2.7.6"
  }
 },
 "nbformat": 4,
 "nbformat_minor": 5
}
