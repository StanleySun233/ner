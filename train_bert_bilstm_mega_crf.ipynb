{
 "cells": [
  {
   "cell_type": "code",
   "id": "initial_id",
   "metadata": {
    "collapsed": true,
    "ExecuteTime": {
     "end_time": "2024-11-07T14:17:32.636563Z",
     "start_time": "2024-11-07T14:17:32.629562Z"
    }
   },
   "source": [
    "from datasets import load_dataset,concatenate_datasets\n",
    "from transformers import AutoTokenizer\n",
    "from transformers import DataCollatorForTokenClassification\n",
    "from transformers import Trainer,TrainingArguments,TrainerCallback\n",
    "import numpy as np\n",
    "import evaluate\n",
    "import torch\n",
    "from torch.utils.tensorboard import SummaryWriter\n",
    "from model.my_bert import BertBiLSTMMegaCRF\n",
    "from huggingface_hub import notebook_login\n",
    "from transformers import AutoConfig"
   ],
   "outputs": [],
   "execution_count": 2
  },
  {
   "metadata": {
    "ExecuteTime": {
     "end_time": "2024-11-07T14:17:34.211213Z",
     "start_time": "2024-11-07T14:17:32.650667Z"
    }
   },
   "cell_type": "code",
   "source": [
    "a = torch.randn(size=(2,3)).to('cuda')\n",
    "print(a)\n",
    "idx = torch.randperm(2)\n",
    "print(idx)\n",
    "print(a[idx])"
   ],
   "id": "d69af912b1cfe8c6",
   "outputs": [
    {
     "name": "stdout",
     "output_type": "stream",
     "text": [
      "tensor([[-0.5680, -0.6872,  0.1645],\n",
      "        [-0.7013, -1.4670,  0.4725]], device='cuda:0')\n",
      "tensor([1, 0])\n",
      "tensor([[-0.7013, -1.4670,  0.4725],\n",
      "        [-0.5680, -0.6872,  0.1645]], device='cuda:0')\n"
     ]
    }
   ],
   "execution_count": 3
  },
  {
   "metadata": {
    "ExecuteTime": {
     "end_time": "2024-11-07T14:17:34.320065Z",
     "start_time": "2024-11-07T14:17:34.287555Z"
    }
   },
   "cell_type": "code",
   "source": "notebook_login()",
   "id": "81d20a1bb119239b",
   "outputs": [
    {
     "data": {
      "text/plain": [
       "VBox(children=(HTML(value='<center> <img\\nsrc=https://huggingface.co/front/assets/huggingface_logo-noborder.sv…"
      ],
      "application/vnd.jupyter.widget-view+json": {
       "version_major": 2,
       "version_minor": 0,
       "model_id": "871ee28ee97142bb8c23aa7c08e50dd9"
      }
     },
     "metadata": {},
     "output_type": "display_data"
    }
   ],
   "execution_count": 4
  },
  {
   "metadata": {
    "ExecuteTime": {
     "end_time": "2024-11-07T14:17:34.352074Z",
     "start_time": "2024-11-07T14:17:34.341073Z"
    }
   },
   "cell_type": "code",
   "source": [
    "data_name = \"PassbyGrocer/weibo-ner\"\n",
    "bert_name = \"google-bert/bert-base-chinese\""
   ],
   "id": "fa3995743bd3cc5c",
   "outputs": [],
   "execution_count": 5
  },
  {
   "metadata": {
    "ExecuteTime": {
     "end_time": "2024-11-07T14:18:11.242287Z",
     "start_time": "2024-11-07T14:17:34.387181Z"
    }
   },
   "cell_type": "code",
   "source": [
    "dataset = load_dataset(data_name,trust_remote_code=True)\n",
    "tokenizer = AutoTokenizer.from_pretrained(bert_name)"
   ],
   "id": "b9458a3be8cc138d",
   "outputs": [],
   "execution_count": 6
  },
  {
   "metadata": {
    "ExecuteTime": {
     "end_time": "2024-11-07T14:18:11.835237Z",
     "start_time": "2024-11-07T14:18:11.260301Z"
    }
   },
   "cell_type": "code",
   "source": [
    "print(dataset[\"train\"].features[\"ner_tags\"])\n",
    "\n",
    "num_labels = len(dataset['train'].features['ner_tags'].feature.names)\n",
    "\n",
    "id2label = {i: dataset['train'].features['ner_tags'].feature.names[i] for i in range(num_labels)}\n",
    "label2id = {v: k for k, v in id2label.items()}\n",
    "\n",
    "# 加载配置并设置标签映射\n",
    "config = AutoConfig.from_pretrained(bert_name, num_labels=num_labels, id2label=id2label, label2id=label2id)\n",
    "\n",
    "# 初始化自定义模型\n",
    "model = BertBiLSTMMegaCRF.from_pretrained(bert_name, config=config)"
   ],
   "id": "13afffbefbb5cb1b",
   "outputs": [
    {
     "name": "stdout",
     "output_type": "stream",
     "text": [
      "Sequence(feature=ClassLabel(names=['O', 'B-GPE.NAM', 'I-GPE.NAM', 'B-GPE.NOM', 'I-GPE.NOM', 'B-LOC.NAM', 'I-LOC.NAM', 'B-LOC.NOM', 'I-LOC.NOM', 'B-ORG.NAM', 'I-ORG.NAM', 'B-ORG.NOM', 'I-ORG.NOM', 'B-PER.NAM', 'I-PER.NAM', 'B-PER.NOM', 'I-PER.NOM'], id=None), length=-1, id=None)\n"
     ]
    },
    {
     "name": "stderr",
     "output_type": "stream",
     "text": [
      "Some weights of BertForTokenClassification were not initialized from the model checkpoint at google-bert/bert-base-chinese and are newly initialized: ['classifier.bias', 'classifier.weight']\n",
      "You should probably TRAIN this model on a down-stream task to be able to use it for predictions and inference.\n"
     ]
    }
   ],
   "execution_count": 7
  },
  {
   "metadata": {
    "ExecuteTime": {
     "end_time": "2024-11-07T14:18:11.931273Z",
     "start_time": "2024-11-07T14:18:11.900261Z"
    }
   },
   "cell_type": "code",
   "source": [
    "label_list = dataset[\"train\"].features[\"ner_tags\"].feature.names\n",
    "def tokenize_and_align_labels(examples):\n",
    "    tokenized_inputs = tokenizer(examples[\"tokens\"], truncation=True, padding='max_length', is_split_into_words=True,max_length=64)\n",
    "    labels = []\n",
    "    for i, label in enumerate(examples[\"ner_tags\"]):\n",
    "        word_ids = tokenized_inputs.word_ids(batch_index=i)\n",
    "        label_ids = [-100 if word_id is None else label[word_id] for word_id in word_ids]\n",
    "        labels.append(label_ids)\n",
    "\n",
    "    tokenized_inputs[\"labels\"] = labels\n",
    "    return tokenized_inputs\n",
    "\n",
    "tokenized_datasets = dataset.map(tokenize_and_align_labels, batched=True)\n",
    "data_collator = DataCollatorForTokenClassification(tokenizer)"
   ],
   "id": "747b74ad803eea2f",
   "outputs": [],
   "execution_count": 8
  },
  {
   "metadata": {
    "ExecuteTime": {
     "end_time": "2024-11-07T14:18:13.339370Z",
     "start_time": "2024-11-07T14:18:11.965267Z"
    }
   },
   "cell_type": "code",
   "source": "metric = evaluate.load(\"seqeval\")",
   "id": "25a1e82846222a90",
   "outputs": [],
   "execution_count": 9
  },
  {
   "metadata": {
    "ExecuteTime": {
     "end_time": "2024-11-07T14:18:13.386828Z",
     "start_time": "2024-11-07T14:18:13.373809Z"
    }
   },
   "cell_type": "code",
   "source": [
    "writer = SummaryWriter(log_dir=\"./logs\")\n",
    "label_list = dataset[\"train\"].features[\"ner_tags\"].feature.names  # 获取标签名称列表\n",
    "s = [i for i in range(len(label_list))]\n",
    "\n",
    "def compute_metrics(p):\n",
    "    # 获取 logits，并将它们转换为预测的标签索引\n",
    "    predictions = np.argmax(p.predictions, axis=2)\n",
    "    references = p.label_ids\n",
    "\n",
    "    # 转换为字符串标签，并过滤掉 -100\n",
    "    true_predictions = [\n",
    "    [label_list[pred] if label in s else label_list[0] for (pred, label) in zip(prediction, reference)]\n",
    "    for prediction, reference in zip(predictions, references)\n",
    "    ]\n",
    "\n",
    "    true_labels = [\n",
    "    [label_list[label] if label in s else label_list[0] for (pred, label) in zip(prediction, reference)]\n",
    "    for prediction, reference in zip(predictions, references)\n",
    "    ]\n",
    "\n",
    "# 计算 seqeval 指标并过滤无效标签\n",
    "    results = metric.compute(predictions=true_predictions, references=true_labels)\n",
    "    \n",
    "    # 检查并设置缺失标签的 F1 和 Recall 为 0\n",
    "    for key, value in results.items():\n",
    "        if value is None:\n",
    "            results[key] = 1\n",
    "\n",
    "    return {\n",
    "        \"precision\": results.get(\"overall_precision\", 1),\n",
    "        \"recall\": results.get(\"overall_recall\", 1),\n",
    "        \"f1\": results.get(\"overall_f1\", 1),\n",
    "        \"accuracy\": results.get(\"overall_accuracy\", 1),\n",
    "    }"
   ],
   "id": "e4f8686cb471915b",
   "outputs": [],
   "execution_count": 10
  },
  {
   "metadata": {
    "ExecuteTime": {
     "end_time": "2024-11-07T14:18:13.432991Z",
     "start_time": "2024-11-07T14:18:13.420988Z"
    }
   },
   "cell_type": "code",
   "source": [
    "class TensorBoardCallback(TrainerCallback):\n",
    "    def on_log(self, args, state, control, logs=None, **kwargs):\n",
    "        if logs is None:\n",
    "            return\n",
    "        # 将每次日志的损失值记录到 TensorBoard\n",
    "        for k, v in logs.items():\n",
    "            if \"loss\" in k:\n",
    "                writer.add_scalar(f\"Loss/{k}\", v, global_step=state.global_step)"
   ],
   "id": "9c3656518c4da941",
   "outputs": [],
   "execution_count": 11
  },
  {
   "metadata": {
    "ExecuteTime": {
     "end_time": "2024-11-07T14:18:13.556906Z",
     "start_time": "2024-11-07T14:18:13.467100Z"
    }
   },
   "cell_type": "code",
   "source": [
    "training_args = TrainingArguments(\n",
    "    output_dir=\"./results\",\n",
    "    evaluation_strategy=\"epoch\",\n",
    "    save_strategy=\"no\",\n",
    "    logging_dir=\"./logs\",                # 指定日志目录\n",
    "    logging_strategy=\"steps\",            # 设置日志记录策略（这里按步记录）\n",
    "    logging_steps=10,                    # 每 10 步记录一次日志\n",
    "    per_device_train_batch_size=32,\n",
    "    per_device_eval_batch_size=32,\n",
    "    num_train_epochs=100,\n",
    "    fp16=False,\n",
    "    push_to_hub=True,\n",
    "    hub_model_id=\"PassbyGrocer/bert_bilstm_mega_crf-ner-weibo\"\n",
    ")"
   ],
   "id": "4337d098c833d9eb",
   "outputs": [
    {
     "name": "stderr",
     "output_type": "stream",
     "text": [
      "E:\\ProgramData\\anaconda3\\envs\\hf\\lib\\site-packages\\transformers\\training_args.py:1559: FutureWarning: `evaluation_strategy` is deprecated and will be removed in version 4.46 of 🤗 Transformers. Use `eval_strategy` instead\n",
      "  warnings.warn(\n"
     ]
    }
   ],
   "execution_count": 12
  },
  {
   "metadata": {
    "jupyter": {
     "is_executing": true
    },
    "ExecuteTime": {
     "start_time": "2024-11-07T14:18:13.591895Z"
    }
   },
   "cell_type": "code",
   "source": [
    "optimizer = torch.optim.AdamW(model.parameters(), lr=1e-5, weight_decay=1e-4)\n",
    "\n",
    "trainer = Trainer(\n",
    "    model=model,\n",
    "    args=training_args,\n",
    "    train_dataset=tokenized_datasets[\"train\"],\n",
    "    eval_dataset=tokenized_datasets[\"validation\"],\n",
    "    tokenizer=tokenizer,\n",
    "    data_collator=data_collator,\n",
    "    compute_metrics=compute_metrics,\n",
    "    callbacks=[TensorBoardCallback()],\n",
    "    optimizers=(optimizer, None)\n",
    ")\n",
    "\n",
    "trainer.train()"
   ],
   "id": "49711aaeb2caf05d",
   "outputs": [
    {
     "name": "stderr",
     "output_type": "stream",
     "text": [
      "C:\\Users\\sjsun\\AppData\\Local\\Temp\\ipykernel_12340\\1315859427.py:3: FutureWarning: `tokenizer` is deprecated and will be removed in version 5.0.0 for `Trainer.__init__`. Use `processing_class` instead.\n",
      "  trainer = Trainer(\n"
     ]
    },
    {
     "data": {
      "text/plain": [
       "<IPython.core.display.HTML object>"
      ],
      "text/html": [
       "\n",
       "    <div>\n",
       "      \n",
       "      <progress value='385' max='4300' style='width:300px; height:20px; vertical-align: middle;'></progress>\n",
       "      [ 385/4300 02:23 < 24:27, 2.67 it/s, Epoch 8.93/100]\n",
       "    </div>\n",
       "    <table border=\"1\" class=\"dataframe\">\n",
       "  <thead>\n",
       " <tr style=\"text-align: left;\">\n",
       "      <th>Epoch</th>\n",
       "      <th>Training Loss</th>\n",
       "      <th>Validation Loss</th>\n",
       "      <th>Precision</th>\n",
       "      <th>Recall</th>\n",
       "      <th>F1</th>\n",
       "      <th>Accuracy</th>\n",
       "    </tr>\n",
       "  </thead>\n",
       "  <tbody>\n",
       "    <tr>\n",
       "      <td>1</td>\n",
       "      <td>0.330400</td>\n",
       "      <td>0.262487</td>\n",
       "      <td>0.000000</td>\n",
       "      <td>0.000000</td>\n",
       "      <td>0.000000</td>\n",
       "      <td>0.953996</td>\n",
       "    </tr>\n",
       "    <tr>\n",
       "      <td>2</td>\n",
       "      <td>0.179900</td>\n",
       "      <td>0.144036</td>\n",
       "      <td>0.530055</td>\n",
       "      <td>0.610063</td>\n",
       "      <td>0.567251</td>\n",
       "      <td>0.976011</td>\n",
       "    </tr>\n",
       "    <tr>\n",
       "      <td>3</td>\n",
       "      <td>0.130300</td>\n",
       "      <td>0.117210</td>\n",
       "      <td>0.586402</td>\n",
       "      <td>0.650943</td>\n",
       "      <td>0.616990</td>\n",
       "      <td>0.979263</td>\n",
       "    </tr>\n",
       "    <tr>\n",
       "      <td>4</td>\n",
       "      <td>0.096100</td>\n",
       "      <td>0.107803</td>\n",
       "      <td>0.574742</td>\n",
       "      <td>0.701258</td>\n",
       "      <td>0.631728</td>\n",
       "      <td>0.979089</td>\n",
       "    </tr>\n",
       "    <tr>\n",
       "      <td>5</td>\n",
       "      <td>0.055400</td>\n",
       "      <td>0.116382</td>\n",
       "      <td>0.586035</td>\n",
       "      <td>0.738994</td>\n",
       "      <td>0.653686</td>\n",
       "      <td>0.978625</td>\n",
       "    </tr>\n",
       "    <tr>\n",
       "      <td>6</td>\n",
       "      <td>0.056100</td>\n",
       "      <td>0.119603</td>\n",
       "      <td>0.587940</td>\n",
       "      <td>0.735849</td>\n",
       "      <td>0.653631</td>\n",
       "      <td>0.978218</td>\n",
       "    </tr>\n",
       "    <tr>\n",
       "      <td>7</td>\n",
       "      <td>0.042100</td>\n",
       "      <td>0.130824</td>\n",
       "      <td>0.586207</td>\n",
       "      <td>0.694969</td>\n",
       "      <td>0.635971</td>\n",
       "      <td>0.977695</td>\n",
       "    </tr>\n",
       "    <tr>\n",
       "      <td>8</td>\n",
       "      <td>0.035600</td>\n",
       "      <td>0.128349</td>\n",
       "      <td>0.581218</td>\n",
       "      <td>0.720126</td>\n",
       "      <td>0.643258</td>\n",
       "      <td>0.976708</td>\n",
       "    </tr>\n",
       "  </tbody>\n",
       "</table><p>"
      ]
     },
     "metadata": {},
     "output_type": "display_data"
    },
    {
     "name": "stderr",
     "output_type": "stream",
     "text": [
      "E:\\ProgramData\\anaconda3\\envs\\hf\\lib\\site-packages\\seqeval\\metrics\\v1.py:57: UndefinedMetricWarning: Precision and F-score are ill-defined and being set to 0.0 in labels with no predicted samples. Use `zero_division` parameter to control this behavior.\n",
      "  _warn_prf(average, modifier, msg_start, len(result))\n"
     ]
    }
   ],
   "execution_count": null
  },
  {
   "metadata": {},
   "cell_type": "code",
   "source": [
    "test_results = trainer.predict(tokenized_datasets[\"test\"])\n",
    "# 输出测试结果\n",
    "print(\"测试集上的结果:\", test_results.metrics)"
   ],
   "id": "93024ca2e24aed1d",
   "outputs": [],
   "execution_count": null
  },
  {
   "metadata": {},
   "cell_type": "code",
   "source": "trainer.push_to_hub()",
   "id": "76022e6fae003353",
   "outputs": [],
   "execution_count": null
  },
  {
   "metadata": {},
   "cell_type": "code",
   "source": "",
   "id": "4f24e3a587366a9c",
   "outputs": [],
   "execution_count": null
  }
 ],
 "metadata": {
  "kernelspec": {
   "display_name": "Python 3",
   "language": "python",
   "name": "python3"
  },
  "language_info": {
   "codemirror_mode": {
    "name": "ipython",
    "version": 2
   },
   "file_extension": ".py",
   "mimetype": "text/x-python",
   "name": "python",
   "nbconvert_exporter": "python",
   "pygments_lexer": "ipython2",
   "version": "2.7.6"
  }
 },
 "nbformat": 4,
 "nbformat_minor": 5
}
