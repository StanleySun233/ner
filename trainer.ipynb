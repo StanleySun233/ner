{
 "cells": [
  {
   "cell_type": "code",
   "id": "initial_id",
   "metadata": {
    "collapsed": true
   },
   "source": [
    "import utils\n",
    "import evaluate\n",
    "from model.my_bert import BertBiLSTMMegaCRF\n",
    "from huggingface_hub import notebook_login"
   ],
   "outputs": [],
   "execution_count": null
  },
  {
   "metadata": {},
   "cell_type": "code",
   "source": [
    "dataset_name = \"PassbyGrocer/weibo-ner\"\n",
    "pretrained_name = \"hfl/chinese-roberta-wwm-ext-large\"\n",
    "user_id = \"PassbyGrocer\"\n",
    "model_name = \"robert_bilstm_mega_res\"\n",
    "model_cls = BertBiLSTMMegaCRF"
   ],
   "id": "7463cc8f4b0b8573",
   "outputs": [],
   "execution_count": null
  },
  {
   "metadata": {},
   "cell_type": "code",
   "source": "utils.check_torch_gpu()",
   "id": "a94428becb2b4ea5",
   "outputs": [],
   "execution_count": null
  },
  {
   "metadata": {},
   "cell_type": "code",
   "source": "notebook_login()",
   "id": "c881baed507d0668",
   "outputs": [],
   "execution_count": null
  },
  {
   "metadata": {},
   "cell_type": "code",
   "source": [
    "tokenized_datasets, data_collator,tokenizer = utils.load_datasets_by_hf(dataset_name,pretrained_name)\n",
    "model = utils.load_model_by_hf(pretrained_name,tokenized_datasets,model_cls)\n",
    "metric = evaluate.load(\"seqeval\")"
   ],
   "id": "70792709c225a137",
   "outputs": [],
   "execution_count": null
  },
  {
   "metadata": {},
   "cell_type": "code",
   "source": [
    "label_list = tokenized_datasets[\"train\"].features[\"ner_tags\"].feature.names  # 获取标签名称列表\n",
    "s = [i for i in range(len(label_list))]\n",
    "\n",
    "def compute_metrics_helper(pred):\n",
    "    return utils.compute_metrics(pred, label_list,metric)"
   ],
   "id": "f43be8b65815d85e",
   "outputs": [],
   "execution_count": null
  },
  {
   "metadata": {},
   "cell_type": "code",
   "source": [
    "train_args = utils.get_train_args(user_id,model_name,dataset_name.split(\"/\")[1])\n",
    "trainer = utils.get_trainer(model,train_args,tokenized_datasets,tokenizer,data_collator)"
   ],
   "id": "e7b25c7c887300bf",
   "outputs": [],
   "execution_count": null
  },
  {
   "metadata": {},
   "cell_type": "code",
   "source": "trainer.train()",
   "id": "1b4e5ca3ca5d364f",
   "outputs": [],
   "execution_count": null
  },
  {
   "metadata": {},
   "cell_type": "code",
   "source": [
    "test_results = trainer.predict(tokenized_datasets[\"test\"])\n",
    "print(\"Result in Test:\", test_results.metrics)"
   ],
   "id": "8d62aaa8f926f489",
   "outputs": [],
   "execution_count": null
  },
  {
   "metadata": {},
   "cell_type": "code",
   "source": "trainer.push_to_hub()",
   "id": "9f6e29a12ea23e1c",
   "outputs": [],
   "execution_count": null
  }
 ],
 "metadata": {
  "kernelspec": {
   "display_name": "Python 3",
   "language": "python",
   "name": "python3"
  },
  "language_info": {
   "codemirror_mode": {
    "name": "ipython",
    "version": 2
   },
   "file_extension": ".py",
   "mimetype": "text/x-python",
   "name": "python",
   "nbconvert_exporter": "python",
   "pygments_lexer": "ipython2",
   "version": "2.7.6"
  }
 },
 "nbformat": 4,
 "nbformat_minor": 5
}
