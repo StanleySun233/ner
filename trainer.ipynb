{
 "cells": [
  {
   "cell_type": "code",
   "id": "initial_id",
   "metadata": {
    "collapsed": true
   },
   "source": [
    "import utils\n",
    "from model.my_bert import BertBiLSTMMegaCRF, BertMegaCRF\n",
    "from huggingface_hub import notebook_login"
   ],
   "outputs": [],
   "execution_count": null
  },
  {
   "metadata": {},
   "cell_type": "code",
   "source": [
    "dataset_name = \"PassbyGrocer/weibo-ner\"\n",
    "pretrained_name = \"hfl/chinese-roberta-wwm-ext-large\"\n",
    "user_id = \"PassbyGrocer\"\n",
    "model_name = \"robert_bilstm_mega_res\"\n",
    "model_cls = BertMegaCRF\n",
    "seq_length=32\n",
    "# msra 64, weibo 32, resume 32\n",
    "update=False"
   ],
   "id": "7463cc8f4b0b8573",
   "outputs": [],
   "execution_count": null
  },
  {
   "metadata": {},
   "cell_type": "code",
   "source": "utils.check_torch_gpu()",
   "id": "a94428becb2b4ea5",
   "outputs": [],
   "execution_count": null
  },
  {
   "metadata": {},
   "cell_type": "code",
   "source": "# notebook_login()",
   "id": "c881baed507d0668",
   "outputs": [],
   "execution_count": null
  },
  {
   "metadata": {
    "jupyter": {
     "is_executing": true
    }
   },
   "cell_type": "code",
   "source": "utils.train(dataset_name, pretrained_name, user_id, model_name, model_cls,seq_length,update)",
   "id": "70792709c225a137",
   "outputs": [],
   "execution_count": null
  }
 ],
 "metadata": {
  "kernelspec": {
   "display_name": "Python 3",
   "language": "python",
   "name": "python3"
  },
  "language_info": {
   "codemirror_mode": {
    "name": "ipython",
    "version": 2
   },
   "file_extension": ".py",
   "mimetype": "text/x-python",
   "name": "python",
   "nbconvert_exporter": "python",
   "pygments_lexer": "ipython2",
   "version": "2.7.6"
  }
 },
 "nbformat": 4,
 "nbformat_minor": 5
}
