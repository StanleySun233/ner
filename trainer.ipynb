{
 "cells": [
  {
   "cell_type": "code",
   "id": "initial_id",
   "metadata": {
    "collapsed": true,
    "ExecuteTime": {
     "end_time": "2024-11-07T18:54:55.524410Z",
     "start_time": "2024-11-07T18:54:51.035206Z"
    }
   },
   "source": [
    "import utils\n",
    "from model.my_bert import BertBiLSTMMegaCRF\n",
    "from huggingface_hub import notebook_login"
   ],
   "outputs": [],
   "execution_count": 1
  },
  {
   "metadata": {
    "ExecuteTime": {
     "end_time": "2024-11-07T18:54:55.555409Z",
     "start_time": "2024-11-07T18:54:55.540405Z"
    }
   },
   "cell_type": "code",
   "source": [
    "dataset_name = \"PassbyGrocer/weibo-ner\"\n",
    "pretrained_name = \"hfl/chinese-roberta-wwm-ext-large\"\n",
    "user_id = \"PassbyGrocer\"\n",
    "model_name = \"robert_bilstm_mega_res\"\n",
    "model_cls = BertBiLSTMMegaCRF"
   ],
   "id": "7463cc8f4b0b8573",
   "outputs": [],
   "execution_count": 2
  },
  {
   "metadata": {
    "ExecuteTime": {
     "end_time": "2024-11-07T18:54:55.586423Z",
     "start_time": "2024-11-07T18:54:55.561419Z"
    }
   },
   "cell_type": "code",
   "source": "utils.check_torch_gpu()",
   "id": "a94428becb2b4ea5",
   "outputs": [
    {
     "name": "stdout",
     "output_type": "stream",
     "text": [
      "CUDA Version: 11.6\n",
      "cuDNN Version: 8302\n",
      "PyTorch Version: 1.13.1+cu116\n",
      "Is GPU available for PyTorch: Yes\n"
     ]
    },
    {
     "data": {
      "text/plain": [
       "{'CUDA Version': '11.6',\n",
       " 'cuDNN Version': 8302,\n",
       " 'PyTorch Version': '1.13.1+cu116',\n",
       " 'GPU Available': True}"
      ]
     },
     "execution_count": 3,
     "metadata": {},
     "output_type": "execute_result"
    }
   ],
   "execution_count": 3
  },
  {
   "metadata": {
    "ExecuteTime": {
     "end_time": "2024-11-07T18:54:55.820469Z",
     "start_time": "2024-11-07T18:54:55.790472Z"
    }
   },
   "cell_type": "code",
   "source": "notebook_login()",
   "id": "c881baed507d0668",
   "outputs": [
    {
     "data": {
      "text/plain": [
       "VBox(children=(HTML(value='<center> <img\\nsrc=https://huggingface.co/front/assets/huggingface_logo-noborder.sv…"
      ],
      "application/vnd.jupyter.widget-view+json": {
       "version_major": 2,
       "version_minor": 0,
       "model_id": "317d04ac2e9f412c9394728cf9b8fcf1"
      }
     },
     "metadata": {},
     "output_type": "display_data"
    }
   ],
   "execution_count": 4
  },
  {
   "metadata": {
    "jupyter": {
     "is_executing": true
    },
    "ExecuteTime": {
     "start_time": "2024-11-07T18:54:56.028031Z"
    }
   },
   "cell_type": "code",
   "source": "utils.train(dataset_name, pretrained_name, user_id, model_name, model_cls)",
   "id": "70792709c225a137",
   "outputs": [
    {
     "name": "stdout",
     "output_type": "stream",
     "text": [
      "Sequence(feature=ClassLabel(names=['O', 'B-GPE.NAM', 'I-GPE.NAM', 'B-GPE.NOM', 'I-GPE.NOM', 'B-LOC.NAM', 'I-LOC.NAM', 'B-LOC.NOM', 'I-LOC.NOM', 'B-ORG.NAM', 'I-ORG.NAM', 'B-ORG.NOM', 'I-ORG.NOM', 'B-PER.NAM', 'I-PER.NAM', 'B-PER.NOM', 'I-PER.NOM'], id=None), length=-1, id=None)\n"
     ]
    },
    {
     "name": "stderr",
     "output_type": "stream",
     "text": [
      "Some weights of BertForTokenClassification were not initialized from the model checkpoint at hfl/chinese-roberta-wwm-ext-large and are newly initialized: ['classifier.bias', 'classifier.weight']\n",
      "You should probably TRAIN this model on a down-stream task to be able to use it for predictions and inference.\n",
      "E:\\ProgramData\\anaconda3\\envs\\hf\\lib\\site-packages\\transformers\\training_args.py:1559: FutureWarning: `evaluation_strategy` is deprecated and will be removed in version 4.46 of 🤗 Transformers. Use `eval_strategy` instead\n",
      "  warnings.warn(\n",
      "D:\\Code\\Python\\ner\\utils.py:124: FutureWarning: `tokenizer` is deprecated and will be removed in version 5.0.0 for `Trainer.__init__`. Use `processing_class` instead.\n",
      "  return Trainer(\n"
     ]
    },
    {
     "data": {
      "text/plain": [
       "<IPython.core.display.HTML object>"
      ],
      "text/html": [
       "\n",
       "    <div>\n",
       "      \n",
       "      <progress value='5' max='4300' style='width:300px; height:20px; vertical-align: middle;'></progress>\n",
       "      [   5/4300 00:58 < 23:17:30, 0.05 it/s, Epoch 0.09/100]\n",
       "    </div>\n",
       "    <table border=\"1\" class=\"dataframe\">\n",
       "  <thead>\n",
       " <tr style=\"text-align: left;\">\n",
       "      <th>Epoch</th>\n",
       "      <th>Training Loss</th>\n",
       "      <th>Validation Loss</th>\n",
       "    </tr>\n",
       "  </thead>\n",
       "  <tbody>\n",
       "  </tbody>\n",
       "</table><p>"
      ]
     },
     "metadata": {},
     "output_type": "display_data"
    }
   ],
   "execution_count": null
  }
 ],
 "metadata": {
  "kernelspec": {
   "display_name": "Python 3",
   "language": "python",
   "name": "python3"
  },
  "language_info": {
   "codemirror_mode": {
    "name": "ipython",
    "version": 2
   },
   "file_extension": ".py",
   "mimetype": "text/x-python",
   "name": "python",
   "nbconvert_exporter": "python",
   "pygments_lexer": "ipython2",
   "version": "2.7.6"
  }
 },
 "nbformat": 4,
 "nbformat_minor": 5
}
